{
 "cells": [
  {
   "cell_type": "code",
   "execution_count": 1,
   "id": "f4df4dc0-f437-4556-b0c0-5e6147e034a8",
   "metadata": {},
   "outputs": [],
   "source": [
    "import pandas as pd\n",
    "import numpy as np\n",
    "import matplotlib.pyplot as plt\n",
    "import tensorflow as tf\n",
    "import keras"
   ]
  },
  {
   "cell_type": "code",
   "execution_count": 2,
   "id": "4f183474-73ef-4e00-8159-680ee958c8ca",
   "metadata": {},
   "outputs": [],
   "source": [
    "mn = pd.read_csv(r\"MNIST.csv\")"
   ]
  },
  {
   "cell_type": "code",
   "execution_count": 3,
   "id": "d180ee59-77d9-4c63-91a3-f1669198478b",
   "metadata": {},
   "outputs": [
    {
     "data": {
      "text/html": [
       "<div>\n",
       "<style scoped>\n",
       "    .dataframe tbody tr th:only-of-type {\n",
       "        vertical-align: middle;\n",
       "    }\n",
       "\n",
       "    .dataframe tbody tr th {\n",
       "        vertical-align: top;\n",
       "    }\n",
       "\n",
       "    .dataframe thead th {\n",
       "        text-align: right;\n",
       "    }\n",
       "</style>\n",
       "<table border=\"1\" class=\"dataframe\">\n",
       "  <thead>\n",
       "    <tr style=\"text-align: right;\">\n",
       "      <th></th>\n",
       "      <th>label</th>\n",
       "      <th>pixel0</th>\n",
       "      <th>pixel1</th>\n",
       "      <th>pixel2</th>\n",
       "      <th>pixel3</th>\n",
       "      <th>pixel4</th>\n",
       "      <th>pixel5</th>\n",
       "      <th>pixel6</th>\n",
       "      <th>pixel7</th>\n",
       "      <th>pixel8</th>\n",
       "      <th>...</th>\n",
       "      <th>pixel774</th>\n",
       "      <th>pixel775</th>\n",
       "      <th>pixel776</th>\n",
       "      <th>pixel777</th>\n",
       "      <th>pixel778</th>\n",
       "      <th>pixel779</th>\n",
       "      <th>pixel780</th>\n",
       "      <th>pixel781</th>\n",
       "      <th>pixel782</th>\n",
       "      <th>pixel783</th>\n",
       "    </tr>\n",
       "  </thead>\n",
       "  <tbody>\n",
       "    <tr>\n",
       "      <th>0</th>\n",
       "      <td>1</td>\n",
       "      <td>0</td>\n",
       "      <td>0</td>\n",
       "      <td>0</td>\n",
       "      <td>0</td>\n",
       "      <td>0</td>\n",
       "      <td>0</td>\n",
       "      <td>0</td>\n",
       "      <td>0</td>\n",
       "      <td>0</td>\n",
       "      <td>...</td>\n",
       "      <td>0</td>\n",
       "      <td>0</td>\n",
       "      <td>0</td>\n",
       "      <td>0</td>\n",
       "      <td>0</td>\n",
       "      <td>0</td>\n",
       "      <td>0</td>\n",
       "      <td>0</td>\n",
       "      <td>0</td>\n",
       "      <td>0</td>\n",
       "    </tr>\n",
       "    <tr>\n",
       "      <th>1</th>\n",
       "      <td>0</td>\n",
       "      <td>0</td>\n",
       "      <td>0</td>\n",
       "      <td>0</td>\n",
       "      <td>0</td>\n",
       "      <td>0</td>\n",
       "      <td>0</td>\n",
       "      <td>0</td>\n",
       "      <td>0</td>\n",
       "      <td>0</td>\n",
       "      <td>...</td>\n",
       "      <td>0</td>\n",
       "      <td>0</td>\n",
       "      <td>0</td>\n",
       "      <td>0</td>\n",
       "      <td>0</td>\n",
       "      <td>0</td>\n",
       "      <td>0</td>\n",
       "      <td>0</td>\n",
       "      <td>0</td>\n",
       "      <td>0</td>\n",
       "    </tr>\n",
       "    <tr>\n",
       "      <th>2</th>\n",
       "      <td>1</td>\n",
       "      <td>0</td>\n",
       "      <td>0</td>\n",
       "      <td>0</td>\n",
       "      <td>0</td>\n",
       "      <td>0</td>\n",
       "      <td>0</td>\n",
       "      <td>0</td>\n",
       "      <td>0</td>\n",
       "      <td>0</td>\n",
       "      <td>...</td>\n",
       "      <td>0</td>\n",
       "      <td>0</td>\n",
       "      <td>0</td>\n",
       "      <td>0</td>\n",
       "      <td>0</td>\n",
       "      <td>0</td>\n",
       "      <td>0</td>\n",
       "      <td>0</td>\n",
       "      <td>0</td>\n",
       "      <td>0</td>\n",
       "    </tr>\n",
       "    <tr>\n",
       "      <th>3</th>\n",
       "      <td>4</td>\n",
       "      <td>0</td>\n",
       "      <td>0</td>\n",
       "      <td>0</td>\n",
       "      <td>0</td>\n",
       "      <td>0</td>\n",
       "      <td>0</td>\n",
       "      <td>0</td>\n",
       "      <td>0</td>\n",
       "      <td>0</td>\n",
       "      <td>...</td>\n",
       "      <td>0</td>\n",
       "      <td>0</td>\n",
       "      <td>0</td>\n",
       "      <td>0</td>\n",
       "      <td>0</td>\n",
       "      <td>0</td>\n",
       "      <td>0</td>\n",
       "      <td>0</td>\n",
       "      <td>0</td>\n",
       "      <td>0</td>\n",
       "    </tr>\n",
       "    <tr>\n",
       "      <th>4</th>\n",
       "      <td>0</td>\n",
       "      <td>0</td>\n",
       "      <td>0</td>\n",
       "      <td>0</td>\n",
       "      <td>0</td>\n",
       "      <td>0</td>\n",
       "      <td>0</td>\n",
       "      <td>0</td>\n",
       "      <td>0</td>\n",
       "      <td>0</td>\n",
       "      <td>...</td>\n",
       "      <td>0</td>\n",
       "      <td>0</td>\n",
       "      <td>0</td>\n",
       "      <td>0</td>\n",
       "      <td>0</td>\n",
       "      <td>0</td>\n",
       "      <td>0</td>\n",
       "      <td>0</td>\n",
       "      <td>0</td>\n",
       "      <td>0</td>\n",
       "    </tr>\n",
       "  </tbody>\n",
       "</table>\n",
       "<p>5 rows × 785 columns</p>\n",
       "</div>"
      ],
      "text/plain": [
       "   label  pixel0  pixel1  pixel2  pixel3  pixel4  pixel5  pixel6  pixel7  \\\n",
       "0      1       0       0       0       0       0       0       0       0   \n",
       "1      0       0       0       0       0       0       0       0       0   \n",
       "2      1       0       0       0       0       0       0       0       0   \n",
       "3      4       0       0       0       0       0       0       0       0   \n",
       "4      0       0       0       0       0       0       0       0       0   \n",
       "\n",
       "   pixel8  ...  pixel774  pixel775  pixel776  pixel777  pixel778  pixel779  \\\n",
       "0       0  ...         0         0         0         0         0         0   \n",
       "1       0  ...         0         0         0         0         0         0   \n",
       "2       0  ...         0         0         0         0         0         0   \n",
       "3       0  ...         0         0         0         0         0         0   \n",
       "4       0  ...         0         0         0         0         0         0   \n",
       "\n",
       "   pixel780  pixel781  pixel782  pixel783  \n",
       "0         0         0         0         0  \n",
       "1         0         0         0         0  \n",
       "2         0         0         0         0  \n",
       "3         0         0         0         0  \n",
       "4         0         0         0         0  \n",
       "\n",
       "[5 rows x 785 columns]"
      ]
     },
     "execution_count": 3,
     "metadata": {},
     "output_type": "execute_result"
    }
   ],
   "source": [
    "mn.head()"
   ]
  },
  {
   "cell_type": "code",
   "execution_count": 4,
   "id": "4375b4ed-fada-4e32-b9bf-b77d20d8d5c8",
   "metadata": {},
   "outputs": [
    {
     "data": {
      "text/plain": [
       "label\n",
       "1    4684\n",
       "7    4401\n",
       "3    4351\n",
       "9    4188\n",
       "2    4177\n",
       "6    4137\n",
       "0    4132\n",
       "4    4072\n",
       "8    4063\n",
       "5    3795\n",
       "Name: count, dtype: int64"
      ]
     },
     "execution_count": 4,
     "metadata": {},
     "output_type": "execute_result"
    }
   ],
   "source": [
    "mn.label.value_counts()"
   ]
  },
  {
   "cell_type": "code",
   "execution_count": 5,
   "id": "a561e439-578e-421f-9f2b-db852474e419",
   "metadata": {},
   "outputs": [],
   "source": [
    "# lets try to do coding in 2 parts\n",
    "# plot to understand this is image data\n",
    "# Build the neural nets"
   ]
  },
  {
   "cell_type": "code",
   "execution_count": 6,
   "id": "f2b295ff-2907-4894-8e24-5f09f371cfdd",
   "metadata": {},
   "outputs": [
    {
     "data": {
      "text/plain": [
       "<matplotlib.image.AxesImage at 0x2bd622bf4d0>"
      ]
     },
     "execution_count": 6,
     "metadata": {},
     "output_type": "execute_result"
    },
    {
     "data": {
      "image/png": "[encoded data removed]",
      "text/plain": [
       "<Figure size 640x480 with 1 Axes>"
      ]
     },
     "metadata": {},
     "output_type": "display_data"
    }
   ],
   "source": [
    "mnist1 = mn.iloc[:, 1::]\n",
    "abcd = mnist1.iloc[0]\n",
    "abcd = np.array(abcd)\n",
    "abcd = abcd.reshape(28 , 28)\n",
    "plt.imshow(abcd)"
   ]
  },
  {
   "cell_type": "code",
   "execution_count": 7,
   "id": "bfe97eb2-1a6d-4273-946d-ae0757c738d7",
   "metadata": {},
   "outputs": [
    {
     "data": {
      "image/png": "[encoded data removed]",
      "text/plain": [
       "<Figure size 640x480 with 30 Axes>"
      ]
     },
     "metadata": {},
     "output_type": "display_data"
    }
   ],
   "source": [
    "# to see thge image of thne first 30 records\n",
    "\n",
    "mnist1 = mn.iloc[: , 1:786]\n",
    "mnist1 = np.array(mnist1)\n",
    "for i in range(30):\n",
    "    plt.subplot(6,5,i+1)\n",
    "    plt.imshow(mnist1[i , :].reshape(28, 28))\n",
    "    plt.axis('off')"
   ]
  },
  {
   "cell_type": "code",
   "execution_count": 8,
   "id": "04a60ec7-a906-4c59-92b6-9d6c14c07179",
   "metadata": {},
   "outputs": [],
   "source": [
    "# noe everyone is agreed thhis is image data"
   ]
  },
  {
   "cell_type": "code",
   "execution_count": 9,
   "id": "73951d89-2e8f-49a2-8942-75b495335fef",
   "metadata": {},
   "outputs": [
    {
     "data": {
      "text/plain": [
       "label       0\n",
       "pixel0      0\n",
       "pixel1      0\n",
       "pixel2      0\n",
       "pixel3      0\n",
       "           ..\n",
       "pixel779    0\n",
       "pixel780    0\n",
       "pixel781    0\n",
       "pixel782    0\n",
       "pixel783    0\n",
       "Length: 785, dtype: int64"
      ]
     },
     "execution_count": 9,
     "metadata": {},
     "output_type": "execute_result"
    }
   ],
   "source": [
    "mn.isnull().sum()"
   ]
  },
  {
   "cell_type": "code",
   "execution_count": 10,
   "id": "07406452-41b7-4330-9374-d22ecda6a8fc",
   "metadata": {},
   "outputs": [],
   "source": [
    "# Sampling"
   ]
  },
  {
   "cell_type": "code",
   "execution_count": 54,
   "id": "b181adf6-f487-4430-ac91-2ec82e3d6322",
   "metadata": {},
   "outputs": [],
   "source": [
    "from sklearn.model_selection import train_test_split"
   ]
  },
  {
   "cell_type": "code",
   "execution_count": 56,
   "id": "999a3665-ad80-4135-8f28-59f358c444e1",
   "metadata": {},
   "outputs": [],
   "source": [
    "mn_train , mn_test = train_test_split(mn , test_size = 0.2)"
   ]
  },
  {
   "cell_type": "code",
   "execution_count": 57,
   "id": "e5a4077f-89bd-4e30-9b5e-f6a5c7aa2acd",
   "metadata": {},
   "outputs": [],
   "source": [
    "mn_train_x = mn_train.iloc[:,1::]\n",
    "mn_train_y = mn_train.iloc[: , 0]\n",
    "\n",
    "mn_test_x = mn_test.iloc[:,1::]\n",
    "mn_test_y = mn_test.iloc[: , 0]"
   ]
  },
  {
   "cell_type": "code",
   "execution_count": 58,
   "id": "d5e13e85-dc7c-42b3-a169-14bea0ef12cf",
   "metadata": {},
   "outputs": [],
   "source": [
    "mn_train_x = tf.keras.utils.normalize(mn_train_x)\n",
    "mn_test_x = tf.keras.utils.normalize(mn_test_x)\n",
    "\n",
    "# this step is optional but recommended"
   ]
  },
  {
   "cell_type": "code",
   "execution_count": 61,
   "id": "d1cb2e1f-1860-43ec-b19d-4b5fea0ca09c",
   "metadata": {},
   "outputs": [],
   "source": [
    "model = tf.keras.models.Sequential()       #Initialize the model\n",
    "model.add(tf.keras.layers.Dense(128, activation = tf.nn.relu))    # 1st hidden layer\n",
    "model.add(tf.keras.layers.Dense(128, activation = tf.nn.relu))    # 2nd hidden layer\n",
    "model.add(tf.keras.layers.Dense(128, activation = tf.nn.relu))    # 3rd hidden layer\n",
    "model.add(tf.keras.layers.Dense(10 , activation = tf.nn.softmax)) # o/p layer and 10 is not an hyperparameter\n",
    "\n",
    "\n",
    "adam = tf.keras.optimizers.Adam(learning_rate=0.01)\n",
    "model.compile(optimizer='adam' , loss = 'sparse_categorical_crossentropy' , metrics = ['accuracy'] )\n"
   ]
  },
  {
   "cell_type": "code",
   "execution_count": 64,
   "id": "ef663d38-0e18-4914-82dc-8827e709c330",
   "metadata": {},
   "outputs": [],
   "source": [
    "mn_train_x = np.array(mn_train_x)\n",
    "mn_train_y = np.array(mn_train_y)"
   ]
  },
  {
   "cell_type": "code",
   "execution_count": 68,
   "id": "89141fe5-8a5e-42c2-9d4b-2fc9e25018f2",
   "metadata": {},
   "outputs": [
    {
     "name": "stdout",
     "output_type": "stream",
     "text": [
      "Epoch 1/12\n",
      "\u001b[1m210/210\u001b[0m \u001b[32m━━━━━━━━━━━━━━━━━━━━\u001b[0m\u001b[37m\u001b[0m \u001b[1m3s\u001b[0m 12ms/step - accuracy: 0.9935 - loss: 0.0214 - val_accuracy: 0.9909 - val_loss: 0.0298\n",
      "Epoch 2/12\n",
      "\u001b[1m210/210\u001b[0m \u001b[32m━━━━━━━━━━━━━━━━━━━━\u001b[0m\u001b[37m\u001b[0m \u001b[1m2s\u001b[0m 10ms/step - accuracy: 0.9963 - loss: 0.0143 - val_accuracy: 0.9896 - val_loss: 0.0294\n",
      "Epoch 3/12\n",
      "\u001b[1m210/210\u001b[0m \u001b[32m━━━━━━━━━━━━━━━━━━━━\u001b[0m\u001b[37m\u001b[0m \u001b[1m2s\u001b[0m 11ms/step - accuracy: 0.9978 - loss: 0.0108 - val_accuracy: 0.9924 - val_loss: 0.0257\n",
      "Epoch 4/12\n",
      "\u001b[1m210/210\u001b[0m \u001b[32m━━━━━━━━━━━━━━━━━━━━\u001b[0m\u001b[37m\u001b[0m \u001b[1m2s\u001b[0m 9ms/step - accuracy: 0.9982 - loss: 0.0081 - val_accuracy: 0.9871 - val_loss: 0.0384\n",
      "Epoch 5/12\n",
      "\u001b[1m210/210\u001b[0m \u001b[32m━━━━━━━━━━━━━━━━━━━━\u001b[0m\u001b[37m\u001b[0m \u001b[1m2s\u001b[0m 9ms/step - accuracy: 0.9962 - loss: 0.0125 - val_accuracy: 0.9893 - val_loss: 0.0332\n",
      "Epoch 6/12\n",
      "\u001b[1m210/210\u001b[0m \u001b[32m━━━━━━━━━━━━━━━━━━━━\u001b[0m\u001b[37m\u001b[0m \u001b[1m2s\u001b[0m 8ms/step - accuracy: 0.9977 - loss: 0.0092 - val_accuracy: 0.9885 - val_loss: 0.0368\n",
      "Epoch 7/12\n",
      "\u001b[1m210/210\u001b[0m \u001b[32m━━━━━━━━━━━━━━━━━━━━\u001b[0m\u001b[37m\u001b[0m \u001b[1m2s\u001b[0m 8ms/step - accuracy: 0.9977 - loss: 0.0072 - val_accuracy: 0.9871 - val_loss: 0.0402\n",
      "Epoch 8/12\n",
      "\u001b[1m210/210\u001b[0m \u001b[32m━━━━━━━━━━━━━━━━━━━━\u001b[0m\u001b[37m\u001b[0m \u001b[1m2s\u001b[0m 9ms/step - accuracy: 0.9989 - loss: 0.0049 - val_accuracy: 0.9912 - val_loss: 0.0332\n",
      "Epoch 9/12\n",
      "\u001b[1m210/210\u001b[0m \u001b[32m━━━━━━━━━━━━━━━━━━━━\u001b[0m\u001b[37m\u001b[0m \u001b[1m2s\u001b[0m 10ms/step - accuracy: 0.9996 - loss: 0.0026 - val_accuracy: 0.9921 - val_loss: 0.0291\n",
      "Epoch 10/12\n",
      "\u001b[1m210/210\u001b[0m \u001b[32m━━━━━━━━━━━━━━━━━━━━\u001b[0m\u001b[37m\u001b[0m \u001b[1m2s\u001b[0m 11ms/step - accuracy: 0.9997 - loss: 0.0024 - val_accuracy: 0.9891 - val_loss: 0.0352\n",
      "Epoch 11/12\n",
      "\u001b[1m210/210\u001b[0m \u001b[32m━━━━━━━━━━━━━━━━━━━━\u001b[0m\u001b[37m\u001b[0m \u001b[1m2s\u001b[0m 10ms/step - accuracy: 0.9979 - loss: 0.0064 - val_accuracy: 0.9833 - val_loss: 0.0590\n",
      "Epoch 12/12\n",
      "\u001b[1m210/210\u001b[0m \u001b[32m━━━━━━━━━━━━━━━━━━━━\u001b[0m\u001b[37m\u001b[0m \u001b[1m2s\u001b[0m 11ms/step - accuracy: 0.9944 - loss: 0.0139 - val_accuracy: 0.9850 - val_loss: 0.0597\n"
     ]
    },
    {
     "data": {
      "text/plain": [
       "<keras.src.callbacks.history.History at 0x2bd33930b90>"
      ]
     },
     "execution_count": 68,
     "metadata": {},
     "output_type": "execute_result"
    }
   ],
   "source": [
    "model.fit(mn_train_x , mn_train_y , epochs = 12 , batch_size =128,validation_split=0.2)"
   ]
  },
  {
   "cell_type": "code",
   "execution_count": 70,
   "id": "a0bbfbce-414f-478e-9eda-42dff4ae3a9c",
   "metadata": {},
   "outputs": [
    {
     "name": "stdout",
     "output_type": "stream",
     "text": [
      "\u001b[1m263/263\u001b[0m \u001b[32m━━━━━━━━━━━━━━━━━━━━\u001b[0m\u001b[37m\u001b[0m \u001b[1m2s\u001b[0m 5ms/step\n"
     ]
    }
   ],
   "source": [
    "pred_values = model.predict(mn_test_x)"
   ]
  },
  {
   "cell_type": "code",
   "execution_count": 72,
   "id": "e6dd98f9-0a7f-4857-ba65-4d9848c42971",
   "metadata": {},
   "outputs": [
    {
     "data": {
      "text/plain": [
       "array([[3.0809166e-13, 1.6263492e-11, 7.8414830e-09, ..., 1.0000000e+00,\n",
       "        1.8291198e-10, 1.2334720e-12],\n",
       "       [3.3401162e-09, 6.6154269e-09, 5.3222269e-02, ..., 5.0730464e-09,\n",
       "        9.4611418e-01, 3.3170224e-08],\n",
       "       [3.0099635e-11, 4.4997981e-07, 2.4662254e-08, ..., 6.5007317e-03,\n",
       "        1.5194281e-10, 4.0086321e-04],\n",
       "       ...,\n",
       "       [1.2181411e-14, 3.5569207e-14, 6.1054109e-12, ..., 1.3983831e-12,\n",
       "        8.9101583e-13, 1.6288493e-07],\n",
       "       [2.4729353e-12, 3.2833178e-10, 3.5380044e-08, ..., 3.0624501e-06,\n",
       "        9.2575575e-10, 6.3021848e-06],\n",
       "       [1.0562805e-12, 2.3229286e-13, 4.8542030e-13, ..., 1.1493001e-08,\n",
       "        1.1182827e-08, 9.9999988e-01]], dtype=float32)"
      ]
     },
     "execution_count": 72,
     "metadata": {},
     "output_type": "execute_result"
    }
   ],
   "source": [
    "pred_values   # probability value are show because of using the softmax ."
   ]
  },
  {
   "cell_type": "code",
   "execution_count": 74,
   "id": "20c06160-160e-4b82-816b-e31e2a401f3f",
   "metadata": {},
   "outputs": [
    {
     "data": {
      "text/plain": [
       "1.0"
      ]
     },
     "execution_count": 74,
     "metadata": {},
     "output_type": "execute_result"
    }
   ],
   "source": [
    "np.sum(pred_values[0])"
   ]
  },
  {
   "cell_type": "code",
   "execution_count": 76,
   "id": "3b6c2a81-9801-47f2-9c97-84e1afa129c2",
   "metadata": {},
   "outputs": [
    {
     "data": {
      "text/plain": [
       "array([7, 8, 4, ..., 4, 3, 9], dtype=int64)"
      ]
     },
     "execution_count": 76,
     "metadata": {},
     "output_type": "execute_result"
    }
   ],
   "source": [
    "pred_classes = np.argmax(pred_values , axis=1)\n",
    "pred_classes"
   ]
  },
  {
   "cell_type": "code",
   "execution_count": 78,
   "id": "3611b0e0-7fa4-4978-ba7f-076ff3856d1b",
   "metadata": {},
   "outputs": [],
   "source": [
    "from sklearn.metrics import confusion_matrix"
   ]
  },
  {
   "cell_type": "code",
   "execution_count": 80,
   "id": "f1ebba82-7d9c-4dc6-b9ff-30aee793e7a2",
   "metadata": {},
   "outputs": [
    {
     "data": {
      "text/plain": [
       "array([[873,   0,   1,   3,   2,   1,   4,   0,   3,   0],\n",
       "       [  0, 927,   5,   1,   3,   0,   1,   2,   3,   0],\n",
       "       [  0,   1, 801,   3,   5,   0,   0,   7,   0,   0],\n",
       "       [  1,   0,   4, 812,   0,   4,   0,   2,   4,   1],\n",
       "       [  0,   0,   1,   0, 848,   0,   4,   1,   1,   5],\n",
       "       [  5,   2,   2,  15,   1, 713,   3,   1,   4,   2],\n",
       "       [  3,   1,   3,   1,   0,   6, 808,   1,   2,   0],\n",
       "       [  2,   1,   7,   1,   2,   1,   0, 849,   2,   2],\n",
       "       [  1,   6,   8,   8,   3,   9,   3,   4, 739,   1],\n",
       "       [  1,   1,   2,   8,  30,   4,   0,  10,   7, 781]], dtype=int64)"
      ]
     },
     "execution_count": 80,
     "metadata": {},
     "output_type": "execute_result"
    }
   ],
   "source": [
    "confusion_matrix(mn_test_y , pred_classes)"
   ]
  },
  {
   "cell_type": "code",
   "execution_count": 82,
   "id": "715326c7-9d00-4b8a-a076-6ecb82662e64",
   "metadata": {},
   "outputs": [],
   "source": [
    "from sklearn.metrics import accuracy_score "
   ]
  },
  {
   "cell_type": "code",
   "execution_count": 84,
   "id": "3581c374-7769-452e-885d-9f581b23bde8",
   "metadata": {},
   "outputs": [
    {
     "data": {
      "text/plain": [
       "97.03571428571428"
      ]
     },
     "execution_count": 84,
     "metadata": {},
     "output_type": "execute_result"
    }
   ],
   "source": [
    "accuracy_score(mn_test_y , pred_classes) * 100"
   ]
  },
  {
   "cell_type": "code",
   "execution_count": 86,
   "id": "fce65220-ffaf-4149-b215-7f7bf91672f3",
   "metadata": {},
   "outputs": [
    {
     "data": {
      "text/plain": [
       "<keras.src.callbacks.history.History at 0x2bd332ef2d0>"
      ]
     },
     "execution_count": 86,
     "metadata": {},
     "output_type": "execute_result"
    }
   ],
   "source": [
    "model.history"
   ]
  },
  {
   "cell_type": "code",
   "execution_count": null,
   "id": "2fbe5f0a-5b06-48a5-be06-0f56213677ee",
   "metadata": {},
   "outputs": [],
   "source": []
  }
 ],
 "metadata": {
  "kernelspec": {
   "display_name": "Python 3 (ipykernel)",
   "language": "python",
   "name": "python3"
  },
  "language_info": {
   "codemirror_mode": {
    "name": "ipython",
    "version": 3
   },
   "file_extension": ".py",
   "mimetype": "text/x-python",
   "name": "python",
   "nbconvert_exporter": "python",
   "pygments_lexer": "ipython3",
   "version": "3.11.9"
  }
 },
 "nbformat": 4,
 "nbformat_minor": 5
}
